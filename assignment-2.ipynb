{
 "cells": [
  {
   "cell_type": "markdown",
   "metadata": {},
   "source": [
    "A) Create a Class SportsFigure, which has the attributes-\n",
    "\n",
    "1. name\n",
    "\n",
    "2. mean_salary\n",
    "\n",
    "3. team\n",
    "\n",
    "4. position\n",
    "\n",
    "B) The Class should also consist of functions which allow you to-\n",
    "\n",
    "1. An init function that sets the attributes upon object creation\n",
    "\n",
    "2. An output function that prints the attributes on screen\n",
    "\n",
    "C) You should be able to create an object for each player from the salary data file.\n"
   ]
  },
  {
   "cell_type": "code",
   "execution_count": 2,
   "metadata": {
    "collapsed": false,
    "scrolled": false
   },
   "outputs": [],
   "source": [
    "import pandas as pd"
   ]
  },
  {
   "cell_type": "code",
   "execution_count": 3,
   "metadata": {
    "collapsed": true
   },
   "outputs": [],
   "source": [
    "df_salary=pd.read_csv('C:/repos/salary_data.csv')"
   ]
  },
  {
   "cell_type": "code",
   "execution_count": 4,
   "metadata": {
    "collapsed": false
   },
   "outputs": [
    {
     "data": {
      "text/html": [
       "<div>\n",
       "<table border=\"1\" class=\"dataframe\">\n",
       "  <thead>\n",
       "    <tr style=\"text-align: right;\">\n",
       "      <th></th>\n",
       "      <th>team</th>\n",
       "      <th>year</th>\n",
       "      <th>player</th>\n",
       "      <th>contract_years_remaining</th>\n",
       "      <th>contract_thru</th>\n",
       "      <th>position</th>\n",
       "      <th>full_name</th>\n",
       "      <th>salary_year</th>\n",
       "      <th>salary_total</th>\n",
       "      <th>year_counter</th>\n",
       "      <th>obs</th>\n",
       "      <th>mean_salary</th>\n",
       "      <th>mean_remaining</th>\n",
       "    </tr>\n",
       "  </thead>\n",
       "  <tbody>\n",
       "    <tr>\n",
       "      <th>0</th>\n",
       "      <td>Boston Celtics</td>\n",
       "      <td>2002-03</td>\n",
       "      <td>Bremer, J.R.</td>\n",
       "      <td>1</td>\n",
       "      <td>2002-03</td>\n",
       "      <td>G</td>\n",
       "      <td>Bremer</td>\n",
       "      <td>349458</td>\n",
       "      <td>349458</td>\n",
       "      <td>1</td>\n",
       "      <td>2</td>\n",
       "      <td>456568.5</td>\n",
       "      <td>1</td>\n",
       "    </tr>\n",
       "    <tr>\n",
       "      <th>1</th>\n",
       "      <td>Cleveland Cavaliers</td>\n",
       "      <td>2003-04</td>\n",
       "      <td>Bremer, J.R.</td>\n",
       "      <td>1</td>\n",
       "      <td>2003-04</td>\n",
       "      <td>G</td>\n",
       "      <td>Bremer</td>\n",
       "      <td>563679</td>\n",
       "      <td>563679</td>\n",
       "      <td>2</td>\n",
       "      <td>2</td>\n",
       "      <td>456568.5</td>\n",
       "      <td>1</td>\n",
       "    </tr>\n",
       "    <tr>\n",
       "      <th>2</th>\n",
       "      <td>Charlotte Hornets</td>\n",
       "      <td>2001-02</td>\n",
       "      <td>Brown, P.J.</td>\n",
       "      <td>7</td>\n",
       "      <td>2002-03</td>\n",
       "      <td>F</td>\n",
       "      <td>Brown</td>\n",
       "      <td>6404800</td>\n",
       "      <td>36000000</td>\n",
       "      <td>1</td>\n",
       "      <td>6</td>\n",
       "      <td>7668267</td>\n",
       "      <td>5</td>\n",
       "    </tr>\n",
       "    <tr>\n",
       "      <th>3</th>\n",
       "      <td>New Orleans Hornets</td>\n",
       "      <td>2002-03</td>\n",
       "      <td>Brown, P.J.</td>\n",
       "      <td>7</td>\n",
       "      <td>2002-03</td>\n",
       "      <td>F</td>\n",
       "      <td>Brown</td>\n",
       "      <td>7044800</td>\n",
       "      <td>36000000</td>\n",
       "      <td>2</td>\n",
       "      <td>6</td>\n",
       "      <td>7668267</td>\n",
       "      <td>5</td>\n",
       "    </tr>\n",
       "    <tr>\n",
       "      <th>4</th>\n",
       "      <td>New Orleans Hornets</td>\n",
       "      <td>2003-04</td>\n",
       "      <td>Brown, P.J.</td>\n",
       "      <td>4</td>\n",
       "      <td>2006-07</td>\n",
       "      <td>F</td>\n",
       "      <td>Brown</td>\n",
       "      <td>8000000</td>\n",
       "      <td>34000000</td>\n",
       "      <td>3</td>\n",
       "      <td>6</td>\n",
       "      <td>7668267</td>\n",
       "      <td>5</td>\n",
       "    </tr>\n",
       "  </tbody>\n",
       "</table>\n",
       "</div>"
      ],
      "text/plain": [
       "                  team     year        player contract_years_remaining  \\\n",
       "0       Boston Celtics  2002-03  Bremer, J.R.                        1   \n",
       "1  Cleveland Cavaliers  2003-04  Bremer, J.R.                        1   \n",
       "2    Charlotte Hornets  2001-02   Brown, P.J.                        7   \n",
       "3  New Orleans Hornets  2002-03   Brown, P.J.                        7   \n",
       "4  New Orleans Hornets  2003-04   Brown, P.J.                        4   \n",
       "\n",
       "  contract_thru position full_name salary_year salary_total year_counter obs  \\\n",
       "0       2002-03        G    Bremer      349458       349458            1   2   \n",
       "1       2003-04        G    Bremer      563679       563679            2   2   \n",
       "2       2002-03        F     Brown     6404800     36000000            1   6   \n",
       "3       2002-03        F     Brown     7044800     36000000            2   6   \n",
       "4       2006-07        F     Brown     8000000     34000000            3   6   \n",
       "\n",
       "  mean_salary mean_remaining  \n",
       "0    456568.5              1  \n",
       "1    456568.5              1  \n",
       "2     7668267              5  \n",
       "3     7668267              5  \n",
       "4     7668267              5  "
      ]
     },
     "execution_count": 4,
     "metadata": {},
     "output_type": "execute_result"
    }
   ],
   "source": [
    "df_salary.head()"
   ]
  },
  {
   "cell_type": "code",
   "execution_count": 8,
   "metadata": {
    "collapsed": false
   },
   "outputs": [],
   "source": [
    "class SportsFigure:\n",
    "    def __init__(self,player,mean_salary,team,position):\n",
    "        self.player=player\n",
    "        self.mean_salary=mean_salary\n",
    "        self.team=team\n",
    "        self.position=position\n",
    "    def displaySportsFigure(self):\n",
    "        return \"Name:\", self.player, \"Mean Salary:\", self.mean_salary, \"Team:\", self.team, \"Position:\", self.position\n",
    "\n",
    "    def make_player(player, mean_salary, team, position):\n",
    "        player = SportsFigure(player, mean_salary, team, position)\n",
    "        return player"
   ]
  },
  {
   "cell_type": "code",
   "execution_count": 9,
   "metadata": {
    "collapsed": false
   },
   "outputs": [
    {
     "ename": "TypeError",
     "evalue": "__init__() takes exactly 5 arguments (1 given)",
     "output_type": "error",
     "traceback": [
      "\u001b[1;31m---------------------------------------------------------------------------\u001b[0m",
      "\u001b[1;31mTypeError\u001b[0m                                 Traceback (most recent call last)",
      "\u001b[1;32m<ipython-input-9-70418486138d>\u001b[0m in \u001b[0;36m<module>\u001b[1;34m()\u001b[0m\n\u001b[1;32m----> 1\u001b[1;33m \u001b[0msports\u001b[0m\u001b[1;33m=\u001b[0m\u001b[0mSportsFigure\u001b[0m\u001b[1;33m(\u001b[0m\u001b[1;33m)\u001b[0m\u001b[1;33m\u001b[0m\u001b[0m\n\u001b[0m\u001b[0;32m      2\u001b[0m \u001b[0msports\u001b[0m\u001b[1;33m.\u001b[0m\u001b[0mmake_player\u001b[0m\u001b[1;33m(\u001b[0m\u001b[1;33m)\u001b[0m\u001b[1;33m\u001b[0m\u001b[0m\n\u001b[0;32m      3\u001b[0m \u001b[1;32mprint\u001b[0m \u001b[0msports\u001b[0m\u001b[1;33m.\u001b[0m\u001b[0mself\u001b[0m\u001b[1;33m.\u001b[0m\u001b[0mplayer\u001b[0m\u001b[1;33m\u001b[0m\u001b[0m\n",
      "\u001b[1;31mTypeError\u001b[0m: __init__() takes exactly 5 arguments (1 given)"
     ]
    }
   ],
   "source": [
    "sports=SportsFigure()\n",
    "sports.make_player()\n",
    "print sports.self.player"
   ]
  },
  {
   "cell_type": "code",
   "execution_count": null,
   "metadata": {
    "collapsed": true
   },
   "outputs": [],
   "source": []
  }
 ],
 "metadata": {
  "kernelspec": {
   "display_name": "Python 2",
   "language": "python",
   "name": "python2"
  },
  "language_info": {
   "codemirror_mode": {
    "name": "ipython",
    "version": 2
   },
   "file_extension": ".py",
   "mimetype": "text/x-python",
   "name": "python",
   "nbconvert_exporter": "python",
   "pygments_lexer": "ipython2",
   "version": "2.7.11"
  }
 },
 "nbformat": 4,
 "nbformat_minor": 0
}
