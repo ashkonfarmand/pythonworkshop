{
 "cells": [
  {
   "cell_type": "markdown",
   "metadata": {},
   "source": [
    "Ashkon Farmand\n",
    "---\n",
    "\n",
    "Assignment 1\n"
   ]
  },
  {
   "cell_type": "markdown",
   "metadata": {},
   "source": [
    "---"
   ]
  },
  {
   "cell_type": "markdown",
   "metadata": {},
   "source": [
    "**Question 1**: Write a snippet of code to check whether a string is a palindrome."
   ]
  },
  {
   "cell_type": "code",
   "execution_count": 13,
   "metadata": {
    "collapsed": false
   },
   "outputs": [
    {
     "name": "stdout",
     "output_type": "stream",
     "text": [
      "True, it is a palindrome\n"
     ]
    }
   ],
   "source": [
    "example_string = 'A man, a plan, a cat, a ham, a yak, a yam, a hat, a canal-Panama!' #type in sample string\n",
    "example_string_lower = example_string.lower() #convert string to lower case\n",
    "word = ''.join(ch for ch in example_string_lower if ch.isalnum()) #remove non-alphanumeric characters\n",
    "\n",
    "word_rev = reversed(word)\n",
    "\n",
    "def is_palindrome(word):\n",
    "    if list(word) == list(word_rev):\n",
    "        print'True, it is a palindrome'\n",
    "    else:\n",
    "        print'False, this is not a palindrome'\n",
    "\n",
    "is_palindrome(word)\n"
   ]
  },
  {
   "cell_type": "markdown",
   "metadata": {},
   "source": [
    "**Question 2**: Create a snippet of code to generate a list of the first n numbers from the Fibonacci series."
   ]
  },
  {
   "cell_type": "code",
   "execution_count": 8,
   "metadata": {
    "collapsed": false
   },
   "outputs": [
    {
     "name": "stdout",
     "output_type": "stream",
     "text": [
      "How many n numbers? 4\n",
      "Fibonacci sequence:\n",
      "0\n",
      "1\n",
      "1\n",
      "2\n"
     ]
    }
   ],
   "source": [
    "nterms = int(input(\"How many n numbers? \")) #type in n numbers from the Fibonacci series\n",
    "\n",
    "def recur_fibo(n):\n",
    "   \"\"\"Recursive function to\n",
    "   print Fibonacci sequence\"\"\"\n",
    "   if n <= 1:\n",
    "       return n\n",
    "   else:\n",
    "       return(recur_fibo(n-1) + recur_fibo(n-2))\n",
    "\n",
    "\n",
    "# check if the number of terms is valid\n",
    "if nterms <= 0:\n",
    "   print(\"Plese enter a positive integer\")\n",
    "else:\n",
    "   print(\"Fibonacci sequence:\")\n",
    "   for i in range(nterms):\n",
    "       print(recur_fibo(i))"
   ]
  }
 ],
 "metadata": {
  "kernelspec": {
   "display_name": "Python 2",
   "language": "python",
   "name": "python2"
  },
  "language_info": {
   "codemirror_mode": {
    "name": "ipython",
    "version": 2
   },
   "file_extension": ".py",
   "mimetype": "text/x-python",
   "name": "python",
   "nbconvert_exporter": "python",
   "pygments_lexer": "ipython2",
   "version": "2.7.11"
  }
 },
 "nbformat": 4,
 "nbformat_minor": 0
}
